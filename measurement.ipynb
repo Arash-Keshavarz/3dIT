{
 "cells": [
  {
   "cell_type": "markdown",
   "id": "c34a602f-ad5c-4714-843b-90788066527c",
   "metadata": {},
   "source": [
    "# Measurement"
   ]
  },
  {
   "cell_type": "code",
   "execution_count": null,
   "id": "b20820f5-2dff-45e6-a95b-122103a3eaec",
   "metadata": {
    "tags": []
   },
   "outputs": [],
   "source": [
    "import time\n",
    "from datetime import datetime\n",
    "\n",
    "import numpy as np\n",
    "from sciopy import (\n",
    "    SystemMessageCallback_usb_hs,\n",
    "    available_serial_ports,\n",
    "    connect_COM_port,\n",
    "    connect_COM_port_usb_hs,\n",
    "    reshape_full_message_in_bursts,\n",
    "    set_measurement_config_usb_hs,\n",
    "    split_bursts_in_frames,\n",
    ")\n",
    "from sciopy.sciopy_dataclasses import ScioSpecMeasurementSetup\n",
    "\n",
    "from src.classes import (\n",
    "    BallAnomaly,\n",
    "    Ender5Stat,\n",
    "    HitBox,\n",
    "    MeasurementInformation,\n",
    "    TankProperties32x2,\n",
    ")\n",
    "from src.ender5 import (\n",
    "    init_ender5,\n",
    "    move_ender_to_coordinate,\n",
    "    move_to_absolute_x_y_z,\n",
    "    read_temperature,\n",
    "    x_y_z_home,\n",
    ")\n",
    "from src.functions import (\n",
    "    compute_hitbox,\n",
    "    create_meas_coordinates,\n",
    "    create_measurement_directory,\n",
    "    create_mesh,\n",
    "    empty_tank_measurement,\n",
    "    print_coordinates_props,\n",
    "    rename_savedir,\n",
    "    save_parameters_to_json_file,\n",
    "    set_perm,\n",
    ")\n",
    "from src.sciospec import sciospec_measurement\n",
    "from src.visualization import plot_meas_coords, plot_meas_coords_wball, plot_mesh"
   ]
  },
  {
   "cell_type": "markdown",
   "id": "8afefc75-c9bc-4a71-a2b6-95a7d882a916",
   "metadata": {},
   "source": [
    "## Define the parameters"
   ]
  },
  {
   "cell_type": "code",
   "execution_count": null,
   "id": "67117275-508f-417c-9aa6-3f200b3021a4",
   "metadata": {
    "tags": []
   },
   "outputs": [],
   "source": [
    "# init tank\n",
    "tank = TankProperties32x2()\n",
    "# init ball\n",
    "ball = BallAnomaly(x=0, y=0, z=0, d=30, perm=10, material=\"acryl\")\n",
    "# init hitbox\n",
    "hitbox = compute_hitbox(tank, ball, safety_tolerance=10.0)\n",
    "# set min and max z-pos to ball.d/2\n",
    "hitbox.z_min = tank.E_zr1 - ball.d /4\n",
    "hitbox.z_max = tank.E_zr2 + ball.d /4\n",
    "# set sciospec measurement properties\n",
    "ssms = ScioSpecMeasurementSetup(\n",
    "    burst_count=5,  # The number of measurements to be performed.\n",
    "    total_meas_num=10,  # Repetitions of burst count\n",
    "    n_el=64,  # Set 16, 32, 48 or 64 and do not forget to change the channel_group.\n",
    "    channel_group=[\n",
    "        1,\n",
    "        2,\n",
    "        3,\n",
    "        4,\n",
    "    ],  # Use [1] for n_el=16, [1,2] for n_el=32, [1,2,3] for n_el=48, and [1,2,3,4] for n_el=64\n",
    "    exc_freq=100_000,  # 10,000Hz = 10kHz\n",
    "    framerate=5,  # Measurements per second\n",
    "    amplitude=0.01,  # 0.01A = 10mA (maximum)\n",
    "    inj_skip=8,  # injection electrode skip\n",
    "    gain=1,\n",
    "    adc_range=1,  # +/- 1V\n",
    "    notes=\"test measurement\",  # add measurement information\n",
    "    configured=True,\n",
    ")\n",
    "\n",
    "print(tank)\n",
    "print(ball)\n",
    "print(hitbox)\n",
    "print(ssms)"
   ]
  },
  {
   "cell_type": "code",
   "execution_count": null,
   "id": "b218618b-c3b4-4b6c-9fd8-44a8ba117bfb",
   "metadata": {
    "tags": []
   },
   "outputs": [],
   "source": [
    "coordinates = create_meas_coordinates(hitbox, x_pts=15, y_pts=15, z_pts=15)\n",
    "print_coordinates_props(coordinates)"
   ]
  },
  {
   "cell_type": "code",
   "execution_count": null,
   "id": "d8effc9b-7370-4645-923a-3b5415941d74",
   "metadata": {},
   "outputs": [],
   "source": [
    "coordinates = np.round(coordinates,1)\n",
    "coordinates"
   ]
  },
  {
   "cell_type": "code",
   "execution_count": null,
   "id": "8f76eada-944e-49ff-ad86-f85ac2ab0611",
   "metadata": {},
   "outputs": [],
   "source": [
    "print(\"total number of .npz files:\", coordinates.shape[0] * ssms.burst_count)"
   ]
  },
  {
   "cell_type": "code",
   "execution_count": null,
   "id": "c04e7bad-39bf-4e68-988f-06e8b73ff356",
   "metadata": {
    "tags": []
   },
   "outputs": [],
   "source": [
    "sel_coor_test = 0\n",
    "plot_meas_coords(tank=tank, meas_coords=coordinates, p_select=sel_coor_test)\n",
    "\n",
    "ball.x, ball.y, ball.z = coordinates[sel_coor_test]\n",
    "print(ball)\n",
    "# create an empty mesh\n",
    "mesh_obj = create_mesh(tank)\n",
    "set_perm(mesh_obj, anomaly=ball)\n",
    "# plot mesh\n",
    "plot_mesh(mesh_obj, tank, azim=15)"
   ]
  },
  {
   "cell_type": "code",
   "execution_count": null,
   "id": "fd045a74-4795-49d0-b8c7-b4a7aab84034",
   "metadata": {
    "tags": []
   },
   "outputs": [],
   "source": [
    "s_path, f_name = create_measurement_directory()\n",
    "save_parameters_to_json_file(s_path, f_name, ssms, tank, ball, hitbox)"
   ]
  },
  {
   "cell_type": "markdown",
   "id": "ef0bceba-7891-4697-8c89-55cc304790dc",
   "metadata": {},
   "source": [
    "## Connect Devices\n",
    "\n",
    "- Create 3D objects\n",
    "- Init Ender 5\n",
    "- Centering object depending on size\n",
    "- Init Sciospec\n",
    "- Send config to sciospec\n",
    "- Start Measurement"
   ]
  },
  {
   "cell_type": "code",
   "execution_count": null,
   "id": "9017c62a-31ca-4eb4-b72c-b0f64b86d256",
   "metadata": {},
   "outputs": [],
   "source": [
    "COM_Ender = connect_COM_port(port=\"COM4\", baudrate=115200)\n",
    "COM_Sciospec = connect_COM_port_usb_hs()"
   ]
  },
  {
   "cell_type": "code",
   "execution_count": null,
   "id": "c6401857",
   "metadata": {},
   "outputs": [],
   "source": [
    "enderstat = Ender5Stat(\n",
    "    abs_x_pos=None,\n",
    "    abs_y_pos=None,\n",
    "    abs_z_pos=None,\n",
    "    tank_architecture=TankProperties32x2(),\n",
    "    motion_speed=180,\n",
    ")"
   ]
  },
  {
   "cell_type": "code",
   "execution_count": null,
   "id": "44c08629",
   "metadata": {},
   "outputs": [],
   "source": [
    "# init axis -> RUN ONLY IF NO OBJECT IS IN THE MOUNTING CONSTRUCTION\n",
    "init_ender5(COM_Ender, enderstat)"
   ]
  },
  {
   "cell_type": "markdown",
   "id": "24fdd02b",
   "metadata": {},
   "source": [
    "## Set Sciospec Config"
   ]
  },
  {
   "cell_type": "code",
   "execution_count": null,
   "id": "4dde0e50",
   "metadata": {},
   "outputs": [],
   "source": [
    "set_measurement_config_usb_hs(COM_Sciospec, ssms)"
   ]
  },
  {
   "cell_type": "code",
   "execution_count": null,
   "id": "8c51c6f9",
   "metadata": {},
   "outputs": [],
   "source": [
    "# Read out system callback\n",
    "SystemMessageCallback_usb_hs(COM_Sciospec, prnt_msg=True)"
   ]
  },
  {
   "cell_type": "markdown",
   "id": "806c2705-d4fe-4033-a0ad-413f95183326",
   "metadata": {},
   "source": [
    "## Measurement"
   ]
  },
  {
   "cell_type": "code",
   "execution_count": null,
   "id": "27766c1e-a47d-4795-9a9f-2903a68107a2",
   "metadata": {},
   "outputs": [],
   "source": [
    "enderstat.abs_x_pos = 180\n",
    "enderstat.abs_x_pos = 180\n",
    "enderstat.abs_z_pos = 50\n",
    "enderstat.motion_speed = 1500\n",
    "move_to_absolute_x_y_z(COM_Ender, enderstat)"
   ]
  },
  {
   "cell_type": "code",
   "execution_count": null,
   "id": "dc70d35b-c663-44c6-af90-71e1521b84e4",
   "metadata": {
    "tags": []
   },
   "outputs": [],
   "source": [
    "print(\n",
    "    f\"In total this measurement will create {ssms.burst_count*coordinates.shape[0]} samples.\"\n",
    ")"
   ]
  },
  {
   "cell_type": "code",
   "execution_count": null,
   "id": "f0bb9fc7-201d-4ef0-8f2b-6e8b99ddb75e",
   "metadata": {},
   "outputs": [],
   "source": [
    "ball.x, ball.y, ball.z = 180, 180, tank.T_bz[1] + ball.d\n",
    "enderstat.abs_x_pos = 180\n",
    "enderstat.abs_x_pos = 180\n",
    "enderstat.abs_z_pos = tank.T_bz[1] + ball.d / 2\n",
    "enderstat.motion_speed = 1500\n",
    "move_to_absolute_x_y_z(COM_Ender, enderstat)"
   ]
  },
  {
   "cell_type": "code",
   "execution_count": null,
   "id": "90926725-7ed7-4a62-a75c-839866fd92e8",
   "metadata": {},
   "outputs": [],
   "source": [
    "# measurement information for documentation\n",
    "today = datetime.now()\n",
    "documentation = MeasurementInformation(\n",
    "    saline=(9.75, \"[ppt]\"),\n",
    "    saline_height=(131.0, \"[mm]\"),  # heigh without object\n",
    "    temperature=(0.0, \"[°C]\"),\n",
    "    timestamp=today.strftime(\"%d_%m_%Y_%Hh_%Mm\"),\n",
    ")"
   ]
  },
  {
   "cell_type": "code",
   "execution_count": null,
   "id": "0c62f37f-d3e8-4aef-82ff-0c88a3ee0e17",
   "metadata": {},
   "outputs": [],
   "source": [
    "# GT measurement befor start\n",
    "empty_tank_measurement(\n",
    "    COM_Ender,\n",
    "    enderstat,\n",
    "    COM_Sciospec,\n",
    "    ssms,\n",
    "    s_path,\n",
    "    ball,\n",
    "    documentation,\n",
    "    sample_preamble=\"before\",\n",
    "    tank=tank,\n",
    ")"
   ]
  },
  {
   "cell_type": "code",
   "execution_count": null,
   "id": "369ade86-1862-4aad-a901-74b5f519b014",
   "metadata": {},
   "outputs": [],
   "source": [
    "# move to start position\n",
    "move_ender_to_coordinate(COM_Ender, coordinates[0], enderstat, print_msg=True)"
   ]
  },
  {
   "cell_type": "code",
   "execution_count": null,
   "id": "18546939-eaf1-4bc6-bf89-5720b3403ed2",
   "metadata": {},
   "outputs": [],
   "source": [
    "from tqdm import tqdm"
   ]
  },
  {
   "cell_type": "code",
   "execution_count": null,
   "id": "011a8d53-9cf7-474b-baa3-e393dc8de2a5",
   "metadata": {},
   "outputs": [],
   "source": [
    "# start full measurement\n",
    "samples_counter = 0\n",
    "for XYZ in tqdm(coordinates):\n",
    "    # update ball position\n",
    "    ball.x, ball.y, ball.z = XYZ\n",
    "    #mesh_obj = set_perm(mesh_obj, ball)\n",
    "    #plot_mesh(mesh_obj, tank, show_tank_brdr=True)\n",
    "    # move to position\n",
    "    move_ender_to_coordinate(COM_Ender, XYZ, enderstat, print_msg=False)\n",
    "    #time.sleep(4)\n",
    "    # update documentation\n",
    "    documentation.temperature = read_temperature(COM_Ender)\n",
    "    current_time = datetime.now()\n",
    "    documentation.timestamp = current_time.strftime(\"%d_%m_%Y_%Hh_%Mm\")\n",
    "    # measurement\n",
    "    try:\n",
    "        sciospec_data = sciospec_measurement(COM_Sciospec, ssms)\n",
    "    except BaseException:\n",
    "        #SystemMessageCallback(COM_ScioSpec)\n",
    "        #time.sleep(5)\n",
    "        #SoftwareReset(COM_ScioSpec)\n",
    "        #time.sleep(10)\n",
    "        #COM_ScioSpec = connect_COM_port(COM_ScioSpec.name)\n",
    "        #time.sleep(2)\n",
    "        #SystemMessageCallback(COM_ScioSpec)\n",
    "        #scio_spec_measurement_config = conf_n_el_16_opposite(\n",
    "        #    COM_ScioSpec, scio_spec_measurement_config\n",
    "        #)\n",
    "        time.sleep(1)\n",
    "        SystemMessageCallback(COM_ScioSpec)\n",
    "        time.sleep(4)\n",
    "        SystemMessageCallback_usb_hs(COM_Sciospec, prnt_msg=True)\n",
    "        time.sleep(1)\n",
    "        set_measurement_config_usb_hs(COM_Sciospec, ssms)\n",
    "        time.sleep(1)\n",
    "        SystemMessageCallback_usb_hs(COM_Sciospec, prnt_msg=True)\n",
    "        time.sleep(1)\n",
    "        sciospec_data = sciospec_measurement(COM_Sciospec, ssms)\n",
    "    save = True\n",
    "    if save:\n",
    "        for data in sciospec_data:\n",
    "            # update documentation timestamp\n",
    "            current_time = datetime.now()\n",
    "            documentation.timestamp = current_time.strftime(\"%d_%m_%Y_%Hh_%Mm\")\n",
    "\n",
    "            np.savez(\n",
    "                s_path + \"sample_{0:06d}.npz\".format(samples_counter),\n",
    "                data=data,\n",
    "                anomaly=ball,\n",
    "                # mesh_obj=mesh_obj,\n",
    "                config=ssms,\n",
    "                tank=tank,\n",
    "                documentation=documentation,\n",
    "            )\n",
    "            samples_counter += 1\n",
    "        SystemMessageCallback_usb_hs(COM_Sciospec, prnt_msg=False)"
   ]
  },
  {
   "cell_type": "code",
   "execution_count": null,
   "id": "b1c85c3d-b80d-4cbf-8803-6b4708a48923",
   "metadata": {},
   "outputs": [],
   "source": [
    "enderstat.abs_x_pos = 160\n",
    "enderstat.abs_x_pos = 160\n",
    "enderstat.abs_z_pos = 150\n",
    "enderstat.motion_speed = 1500\n",
    "move_to_absolute_x_y_z(COM_Ender, enderstat)"
   ]
  },
  {
   "cell_type": "code",
   "execution_count": null,
   "id": "7f8fab54-cc5a-433c-a245-2adff86f24ff",
   "metadata": {},
   "outputs": [],
   "source": [
    "SystemMessageCallback_usb_hs(COM_Sciospec)"
   ]
  },
  {
   "cell_type": "code",
   "execution_count": null,
   "id": "51e6ea76-b279-4b11-8ca7-c7e9fab2f7d1",
   "metadata": {},
   "outputs": [],
   "source": [
    "# measurement information for documentation\n",
    "today = datetime.now()\n",
    "documentation = MeasurementInformation(\n",
    "    saline=(9.7, \"[ppt]\"),\n",
    "    saline_height=documentation.saline_height,  # heigh without object\n",
    "    temperature=(0.0, \"[°C]\"),\n",
    "    timestamp=today.strftime(\"%d_%m_%Y_%Hh_%Mm\"),\n",
    ")\n",
    "# GT measurement after measurement\n",
    "empty_tank_measurement(\n",
    "    COM_Ender,\n",
    "    enderstat,\n",
    "    COM_Sciospec,\n",
    "    ssms,\n",
    "    s_path,\n",
    "    ball,\n",
    "    documentation,\n",
    "    sample_preamble=\"after\",\n",
    "    tank=tank,\n",
    ")"
   ]
  },
  {
   "cell_type": "code",
   "execution_count": null,
   "id": "89f2bf21-39e3-4f64-a2b3-7a303f7a334e",
   "metadata": {},
   "outputs": [],
   "source": [
    "# rename the timestamp dir -> finishes the measurement\n",
    "rename_savedir(s_path, ball=ball, ssms=ssms)\n",
    "# x_y_z_home(COM_Ender, enderstat)"
   ]
  },
  {
   "cell_type": "code",
   "execution_count": null,
   "id": "89d60ff3-9874-4499-adcb-af10a4a5e328",
   "metadata": {},
   "outputs": [],
   "source": []
  }
 ],
 "metadata": {
  "kernelspec": {
   "display_name": "Python 3 (ipykernel)",
   "language": "python",
   "name": "python3"
  },
  "language_info": {
   "codemirror_mode": {
    "name": "ipython",
    "version": 3
   },
   "file_extension": ".py",
   "mimetype": "text/x-python",
   "name": "python",
   "nbconvert_exporter": "python",
   "pygments_lexer": "ipython3",
   "version": "3.11.3"
  }
 },
 "nbformat": 4,
 "nbformat_minor": 5
}
