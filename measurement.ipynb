{
 "cells": [
  {
   "cell_type": "markdown",
   "id": "c34a602f-ad5c-4714-843b-90788066527c",
   "metadata": {},
   "source": [
    "# Measurement"
   ]
  },
  {
   "cell_type": "code",
   "execution_count": null,
   "id": "b20820f5-2dff-45e6-a95b-122103a3eaec",
   "metadata": {
    "tags": []
   },
   "outputs": [],
   "source": [
    "from sciopy import available_serial_ports, connect_COM_port\n",
    "from sciopy.sciopy_dataclasses import ScioSpecMeasurementSetup\n",
    "import time\n",
    "from src.classes import BallObjectProperties, HitBox, TankProperties32x2, Ender5Stat\n",
    "from src.functions import (\n",
    "    compute_hitbox,\n",
    "    create_meas_coordinates,\n",
    "    create_measurement_directory,\n",
    "    print_coordinates_props,\n",
    "    save_parameters_to_json_file,\n",
    ")\n",
    "from src.visualization import plot_meas_coords, plot_meas_coords_wball\n",
    "\n",
    "from sciopy import (\n",
    "    StartStopMeasurement_usb_hs,\n",
    "    SystemMessageCallback_usb_hs,\n",
    "    connect_COM_port_usb_hs,\n",
    "    set_measurement_config_usb_hs,\n",
    "    available_serial_ports,\n",
    "    del_hex_in_list,\n",
    "    reshape_full_message_in_bursts,\n",
    "    split_bursts_in_frames,\n",
    ")\n",
    "\n",
    "\n",
    "from src.ender5 import init_ender5, x_y_z_home, move_ender_to_coordinate"
   ]
  },
  {
   "cell_type": "markdown",
   "id": "8afefc75-c9bc-4a71-a2b6-95a7d882a916",
   "metadata": {},
   "source": [
    "## Define the parameters"
   ]
  },
  {
   "cell_type": "code",
   "execution_count": null,
   "id": "67117275-508f-417c-9aa6-3f200b3021a4",
   "metadata": {
    "tags": []
   },
   "outputs": [],
   "source": [
    "# init tank\n",
    "tank = TankProperties32x2()\n",
    "# init ball\n",
    "ball = BallObjectProperties(x=0, y=0, z=0, r=30, material=None)\n",
    "# init hitbox\n",
    "hitbox = compute_hitbox(tank, ball, safety_tolerance=0)\n",
    "# set sciospec measurement properties\n",
    "ssms = ScioSpecMeasurementSetup(\n",
    "    burst_count=1,  # The number of measurements to be performed.\n",
    "    total_meas_num=10,  # Repetitions of burst count\n",
    "    n_el=64,  # Set 16, 32, 48 or 64 and do not forget to change the channel_group.\n",
    "    channel_group=[\n",
    "        1,\n",
    "        2,\n",
    "        3,\n",
    "        4,\n",
    "    ],  # Use [1] for n_el=16, [1,2] for n_el=32, [1,2,3] for n_el=48, and [1,2,3,4] for n_el=64\n",
    "    exc_freq=20_000,  # 10,000Hz = 10kHz\n",
    "    framerate=5,  # Measurements per second\n",
    "    amplitude=0.01,  # 0.01A = 10mA (maximum)\n",
    "    inj_skip=8,  # injection electrode skip\n",
    "    gain=1,\n",
    "    adc_range=1,  # +/- 1V\n",
    "    notes=\"None\",  # add measurement information\n",
    "    configured=False,  # will be set to true after sending config to device\n",
    ")\n",
    "\n",
    "print(tank)\n",
    "print(ball)\n",
    "print(hitbox)\n",
    "print(ssms)"
   ]
  },
  {
   "cell_type": "code",
   "execution_count": null,
   "id": "b218618b-c3b4-4b6c-9fd8-44a8ba117bfb",
   "metadata": {
    "tags": []
   },
   "outputs": [],
   "source": [
    "coordinates = create_meas_coordinates(hitbox, x_pts=3, y_pts=3, z_pts=3)\n",
    "print_coordinates_props(coordinates)"
   ]
  },
  {
   "cell_type": "code",
   "execution_count": null,
   "id": "c04e7bad-39bf-4e68-988f-06e8b73ff356",
   "metadata": {
    "tags": []
   },
   "outputs": [],
   "source": [
    "plot_meas_coords(tank=tank, meas_coords=coordinates, p_select=0)"
   ]
  },
  {
   "cell_type": "code",
   "execution_count": null,
   "id": "fd045a74-4795-49d0-b8c7-b4a7aab84034",
   "metadata": {
    "tags": []
   },
   "outputs": [],
   "source": [
    "s_path, f_name = create_measurement_directory()\n",
    "save_parameters_to_json_file(s_path, f_name, ssms, tank, ball, hitbox)"
   ]
  },
  {
   "cell_type": "markdown",
   "id": "ef0bceba-7891-4697-8c89-55cc304790dc",
   "metadata": {},
   "source": [
    "## Connect Devices\n",
    "\n",
    "- Create 3D objects\n",
    "- Init Ender 5\n",
    "- Centering object depending on size\n",
    "- Init Sciospec\n",
    "- Send config to sciospec\n",
    "- Start Measurement"
   ]
  },
  {
   "cell_type": "code",
   "execution_count": null,
   "id": "9017c62a-31ca-4eb4-b72c-b0f64b86d256",
   "metadata": {},
   "outputs": [],
   "source": [
    "COM_Ender = connect_COM_port(port=\"COM4\", baudrate=115200)\n",
    "COM_Sciospec = connect_COM_port_usb_hs()"
   ]
  },
  {
   "cell_type": "code",
   "execution_count": null,
   "id": "c6401857",
   "metadata": {},
   "outputs": [],
   "source": [
    "enderstat = Ender5Stat(\n",
    "    abs_x_pos=None,\n",
    "    abs_y_pos=None,\n",
    "    abs_z_pos=None,\n",
    "    tank_architecture=TankProperties32x2(),\n",
    "    motion_speed=180,\n",
    ")"
   ]
  },
  {
   "cell_type": "code",
   "execution_count": null,
   "id": "44c08629",
   "metadata": {},
   "outputs": [],
   "source": [
    "# init axis -> RUN ONLY IF NO OBJECT IS IN THE MOUNTING CONSTRUCTION\n",
    "init_ender5(COM_Ender, enderstat)"
   ]
  },
  {
   "cell_type": "code",
   "execution_count": null,
   "id": "bb72b3a4",
   "metadata": {},
   "outputs": [],
   "source": [
    "# move to home position\n",
    "x_y_z_home(COM_Ender, enderstat, print_msg=True)"
   ]
  },
  {
   "cell_type": "markdown",
   "id": "24fdd02b",
   "metadata": {},
   "source": [
    "## Set Sciospec Config"
   ]
  },
  {
   "cell_type": "code",
   "execution_count": null,
   "id": "4dde0e50",
   "metadata": {},
   "outputs": [],
   "source": [
    "set_measurement_config_usb_hs(COM_Sciospec, ssms)"
   ]
  },
  {
   "cell_type": "code",
   "execution_count": null,
   "id": "8c51c6f9",
   "metadata": {},
   "outputs": [],
   "source": [
    "# Read out system callback\n",
    "SystemMessageCallback_usb_hs(COM_Sciospec, prnt_msg=True)"
   ]
  },
  {
   "cell_type": "markdown",
   "id": "806c2705-d4fe-4033-a0ad-413f95183326",
   "metadata": {},
   "source": [
    "# Measure"
   ]
  },
  {
   "cell_type": "code",
   "execution_count": null,
   "id": "8effe641-86e3-4ba9-9e26-199a46dea9bb",
   "metadata": {},
   "outputs": [],
   "source": [
    "import serial\n",
    "import numpy as np\n",
    "from src.ender5 import move_to_absolute_x_y_z\n",
    "import time\n",
    "\n",
    "\n",
    "def move_ender_to_coordinate(\n",
    "    ser: serial.serialwin32.Serial,\n",
    "    coordinate: np.ndarray,\n",
    "    enderstat: Ender5Stat,\n",
    "    print_msg: bool = False,\n",
    ") -> None:\n",
    "    \"\"\"\n",
    "    Move to the P(x,y,z) position of a np.array([x,y,z]).\n",
    "\n",
    "    Parameters\n",
    "    ----------\n",
    "    ser : serial.serialwin32.Serial\n",
    "        serial connection\n",
    "    coordinate : np.ndarray\n",
    "        array with [x,y,z] coordinate\n",
    "    enderstat : Ender5Stat\n",
    "        ender 5 dataclass\n",
    "    print_msg : bool, optional\n",
    "        print log, by default False\n",
    "    \"\"\"\n",
    "    x_y_offset = 180  # x,y center point\n",
    "    start_point = np.array(\n",
    "        [\n",
    "            enderstat.abs_x_pos - x_y_offset,\n",
    "            enderstat.abs_y_pos - x_y_offset,\n",
    "            enderstat.abs_z_pos,\n",
    "        ]\n",
    "    )\n",
    "    distance = np.linalg.norm(start_point - coordinate)\n",
    "    y_ender, x_ender, z_ender = coordinate  # switch x,y for ender koordinate system\n",
    "\n",
    "    enderstat.abs_x_pos = x_y_offset + x_ender\n",
    "    enderstat.abs_y_pos = x_y_offset + y_ender\n",
    "    enderstat.abs_z_pos = z_ender\n",
    "    move_to_absolute_x_y_z(ser, enderstat, print_msg)\n",
    "    time.sleep(\n",
    "        int(np.ceil((distance / enderstat.motion_speed) * 100) + 4)\n",
    "    )  # 4 seconds tolerance\n",
    "    if print_msg:\n",
    "        print(enderstat)"
   ]
  },
  {
   "cell_type": "code",
   "execution_count": null,
   "id": "76a2bb9d-4482-4b48-812c-01733c6dc552",
   "metadata": {},
   "outputs": [],
   "source": [
    "# move to start position\n",
    "move_ender_to_coordinate(COM_Ender, coordinates[0], enderstat, print_msg=True)"
   ]
  },
  {
   "cell_type": "code",
   "execution_count": null,
   "id": "e3f05607-fa8e-4e38-b093-3d38dfec1136",
   "metadata": {},
   "outputs": [],
   "source": [
    "x_y_z_home(COM_Ender, enderstat)"
   ]
  },
  {
   "cell_type": "code",
   "execution_count": null,
   "id": "011a8d53-9cf7-474b-baa3-e393dc8de2a5",
   "metadata": {},
   "outputs": [],
   "source": [
    "for XYZ in coordinates[:5]:\n",
    "    print(XYZ)\n",
    "    move_ender_to_coordinate(COM_Ender, XYZ, enderstat, print_msg=True)\n",
    "    time.sleep(3)\n",
    "    print(\"da\")"
   ]
  },
  {
   "cell_type": "code",
   "execution_count": null,
   "id": "4547c88e",
   "metadata": {},
   "outputs": [],
   "source": [
    "# Start and stop single measurement\n",
    "measurement_data_hex = StartStopMeasurement_usb_hs(COM_Sciospec)\n",
    "# Delete hex in mesured buffer\n",
    "measurement_data = del_hex_in_list(measurement_data_hex)\n",
    "\n",
    "measurement_data = split_bursts_in_frames(\n",
    "    split_measurement_data, sciospec_measurement_setup\n",
    ")"
   ]
  }
 ],
 "metadata": {
  "kernelspec": {
   "display_name": "Python 3 (ipykernel)",
   "language": "python",
   "name": "python3"
  },
  "language_info": {
   "codemirror_mode": {
    "name": "ipython",
    "version": 3
   },
   "file_extension": ".py",
   "mimetype": "text/x-python",
   "name": "python",
   "nbconvert_exporter": "python",
   "pygments_lexer": "ipython3",
   "version": "3.11.3"
  }
 },
 "nbformat": 4,
 "nbformat_minor": 5
}
